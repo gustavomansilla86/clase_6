{
 "cells": [
  {
   "cell_type": "code",
   "execution_count": 10,
   "metadata": {},
   "outputs": [
    {
     "name": "stdout",
     "output_type": "stream",
     "text": [
      "imc es de 28.373702422145332\n",
      "sobrepeso\n"
     ]
    }
   ],
   "source": [
    "def imc():\n",
    "    peso= float(input(\"ingrese su peso: kg \"))\n",
    "    altura= float(input(\"ingrese su altura: m \"))  \n",
    "    indice= float(peso/(altura**2))\n",
    "    print(f\"imc es de {indice}\")\n",
    "    if indice < 18.5:\n",
    "        print(\"bajo peso\")\n",
    "    elif indice >= 18.5 and indice < 25:\n",
    "        print(\"peso normal\")\n",
    "    elif indice >= 25 and indice < 30:\n",
    "        print(\"sobrepeso\")\n",
    "    elif indice >=30:\n",
    "        print(\"obesidad\")\n",
    "\n",
    "\n",
    "\n",
    "imc()\n"
   ]
  },
  {
   "cell_type": "markdown",
   "metadata": {},
   "source": [
    "### Bajo peso: IMC < 18.5\n",
    "### Peso normal: 18.5 <= IMC < 25\n",
    "### Sobrepeso: 25 <= IMC < 30\n",
    "### Obesidad: IMC >= 30"
   ]
  },
  {
   "cell_type": "code",
   "execution_count": 14,
   "metadata": {},
   "outputs": [
    {
     "name": "stdout",
     "output_type": "stream",
     "text": [
      "El numero es:{numero}\n",
      "impar\n",
      "no es cero\n",
      "negativo\n",
      "no es divicible por 3\n",
      "no es divicible por 5\n",
      "no es divisible por 3 y 5\n"
     ]
    }
   ],
   "source": [
    "def analizador(numero):\n",
    "  resultado= {\n",
    "    \"par\": numero % 2==0,\n",
    "    \"positivo\": numero >0,\n",
    "    \"cero\": numero==0,\n",
    "    \"divicible por 3\": numero%3==0,\n",
    "    \"divicible por 5\": numero%5==0,\n",
    "    \"divicible por 3 y 5\": numero%3==0 and numero%5==0\n",
    "  }\n",
    "  return resultado\n",
    "\n",
    "numero=int(input(\"ingrese un numero para se analizado\"))\n",
    "  \n",
    "resultado_del_analisis = analizador(numero)\n",
    "print(\"El numero es:{numero}\") \n",
    "if resultado_analisis ==[\"par\"]:\n",
    "  print(\"par\")\n",
    "else:\n",
    "  print(\"impar\")\n",
    "if resultado_del_analisis == [\"cero\"]:\n",
    "  print(\"cero\")\n",
    "else:\n",
    "  print(\"no es cero\")\n",
    "if resultado_del_analisis ==[\"positivo\"]:\n",
    "  print(\"positivo\")\n",
    "else:\n",
    "  print(\"negativo\")\n",
    "if resultado_del_analisis ==[\"divicible por 3\"]:\n",
    "  print(\"divicible por 3\")\n",
    "else:\n",
    "  print(\"no es divicible por 3\")\n",
    "if resultado_del_analisis ==[\"divicible por 5\"]:\n",
    "    print(\"divicible por 5\")\n",
    "else:\n",
    "    print(\"no es divicible por 5\")\n",
    "if resultado_del_analisis ==[\"divicible por 3 y 5\"]:\n",
    "      print(\"divicible por 3 y 5\")\n",
    "else:\n",
    "    print(\"no es divisible por 3 y 5\")    \n",
    "\n",
    "     "
   ]
  },
  {
   "cell_type": "code",
   "execution_count": null,
   "metadata": {},
   "outputs": [],
   "source": []
  }
 ],
 "metadata": {
  "kernelspec": {
   "display_name": "Python 3 (ipykernel)",
   "language": "python",
   "name": "python3"
  },
  "language_info": {
   "codemirror_mode": {
    "name": "ipython",
    "version": 3
   },
   "file_extension": ".py",
   "mimetype": "text/x-python",
   "name": "python",
   "nbconvert_exporter": "python",
   "pygments_lexer": "ipython3",
   "version": "3.10.13"
  }
 },
 "nbformat": 4,
 "nbformat_minor": 2
}
