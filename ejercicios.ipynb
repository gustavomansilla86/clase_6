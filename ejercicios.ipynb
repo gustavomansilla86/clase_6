{
 "cells": [
  {
   "cell_type": "code",
   "execution_count": 10,
   "metadata": {},
   "outputs": [
    {
     "name": "stdout",
     "output_type": "stream",
     "text": [
      "imc es de 28.373702422145332\n",
      "sobrepeso\n"
     ]
    }
   ],
   "source": [
    "def imc():\n",
    "    peso= float(input(\"ingrese su peso: kg \"))\n",
    "    altura= float(input(\"ingrese su altura: m \"))  \n",
    "    indice= float(peso/(altura**2))\n",
    "    print(f\"imc es de {indice}\")\n",
    "    if indice < 18.5:\n",
    "        print(\"bajo peso\")\n",
    "    elif indice >= 18.5 and indice < 25:\n",
    "        print(\"peso normal\")\n",
    "    elif indice >= 25 and indice < 30:\n",
    "        print(\"sobrepeso\")\n",
    "    elif indice >=30:\n",
    "        print(\"obesidad\")\n",
    "\n",
    "\n",
    "\n",
    "imc()\n"
   ]
  },
  {
   "cell_type": "markdown",
   "metadata": {},
   "source": [
    "### Bajo peso: IMC < 18.5\n",
    "### Peso normal: 18.5 <= IMC < 25\n",
    "### Sobrepeso: 25 <= IMC < 30\n",
    "### Obesidad: IMC >= 30"
   ]
  },
  {
   "cell_type": "code",
   "execution_count": 2,
   "metadata": {},
   "outputs": [
    {
     "name": "stdout",
     "output_type": "stream",
     "text": [
      "El numero es:15\n",
      "es impar\n",
      "no es cero\n",
      "es positivo\n",
      "divicible por 3\n",
      "divicible por 5\n",
      "divicible por 3 y 5\n"
     ]
    }
   ],
   "source": [
    "def analizador(numero):\n",
    "  resultado= {\n",
    "    \"par\": numero % 2==0,\n",
    "    \"positivo\": numero > 0,\n",
    "    \"cero\": numero==0,\n",
    "    \"divicible por 3\": numero%3==0,\n",
    "    \"divicible por 5\": numero%5==0,\n",
    "    \"divicible por 3 y 5\": numero%3==0 and numero%5==0\n",
    "  }\n",
    "  return resultado\n",
    "\n",
    "numero=int(input(\"ingrese un numero para se analizado\"))\n",
    "  \n",
    "resultado_del_analisis = analizador(numero)\n",
    "print(f\"El numero es:{numero}\") \n",
    "if resultado_del_analisis [\"par\"]:\n",
    "  print(\"es par\")\n",
    "else:\n",
    "  print(\"es impar\")\n",
    "if resultado_del_analisis [\"cero\"]:\n",
    "  print(\"es cero\")\n",
    "else:\n",
    "  print(\"no es cero\")\n",
    "if resultado_del_analisis [\"positivo\"]:\n",
    "  print(\"es positivo\")\n",
    "else:\n",
    "  print(\"es negativo\")\n",
    "if resultado_del_analisis [\"divicible por 3\"]:\n",
    "  print(\"divicible por 3\")\n",
    "else:\n",
    "  print(\"no es divicible por 3\")\n",
    "if resultado_del_analisis [\"divicible por 5\"]:\n",
    "    print(\"divicible por 5\")\n",
    "else:\n",
    "    print(\"no es divicible por 5\")\n",
    "if resultado_del_analisis [\"divicible por 3 y 5\"]:\n",
    "      print(\"divicible por 3 y 5\")\n",
    "else:\n",
    "    print(\"no es divisible por 3 y 5\")    \n",
    "\n",
    "     "
   ]
  },
  {
   "cell_type": "markdown",
   "metadata": {},
   "source": [
    "Cuadrado:\n",
    "\n",
    "Área: Lado x Lado\n",
    "Perímetro: 4 x Lado\n",
    "\n",
    "Rectángulo:\n",
    "\n",
    "Área: Base x Altura\n",
    "\n",
    "Perímetro: 2 x (Base + Altura)\n",
    "\n",
    "Triángulo:\n",
    "\n",
    "Área: (Base x Altura) / 2\n",
    "Perímetro: Lado1 + Lado2 + Lado3\n",
    "\n",
    "Círculo:\n",
    "\n",
    "Área: π x Radio^2\n",
    "Perímetro: 2 x π x Radio"
   ]
  },
  {
   "cell_type": "code",
   "execution_count": 1,
   "metadata": {},
   "outputs": [],
   "source": [
    "import math\n",
    "def areaYperimetroCuadrado(lado):\n",
    "     area = lado*lado\n",
    "     perimetro = 4*lado\n",
    "     return f\"el area es {area} y el perimetro es {perimetro}\"\n",
    "\n",
    "def areaYperimetroRectangulo(base,altura):\n",
    "     area=base+altura\n",
    "     perimetro=2*(base+altura)\n",
    "     return f\"el area es {area} y el perimetro es {perimetro}\"\n",
    "\n",
    "def areaYperimetroTriangulo(tipo):\n",
    "    if tipo == \"isoceles\":\n",
    "        base = float(input(\"Ingrese la base del triángulo: \"))\n",
    "        lado = float(input(\"Ingrese la longitud de los lados iguales del triángulo: \"))\n",
    "        altura = math.sqrt(lado**2 - (base / 2)**2)\n",
    "        area = (base * altura) / 2\n",
    "        perimetro = 2 * lado + base\n",
    "        return f\"El área es {area:.2f} y el perímetro es {perimetro:.2f}\"\n",
    "\n",
    "    elif tipo == \"equilatero\":\n",
    "        lado = float(input(\"Ingrese el lado: \"))\n",
    "        area = (lado**2) * math.sqrt(3) / 4\n",
    "        perimetro = lado * 3\n",
    "        return f\"El área es {area:.2f} y el perímetro es {perimetro:.2f}\"\n",
    "\n",
    "    elif tipo == \"rectangulo\":\n",
    "        base = float(input(\"Ingrese la base del triángulo: \"))\n",
    "        altura = float(input(\"Ingrese la altura del triángulo: \"))\n",
    "        hipotenusa = math.sqrt(base**2 + altura**2)\n",
    "        area = (base * altura) / 2\n",
    "        perimetro = base + altura + hipotenusa\n",
    "        return f\"El área es {area:.2f} y el perímetro es {perimetro:.2f}\"\n",
    "\n",
    "    else:\n",
    "        return \"No se reconoce el tipo de triángulo\"\n"
   ]
  },
  {
   "cell_type": "code",
   "execution_count": 10,
   "metadata": {},
   "outputs": [
    {
     "data": {
      "text/plain": [
       "'el area es 25 y el perimetro es 20'"
      ]
     },
     "execution_count": 10,
     "metadata": {},
     "output_type": "execute_result"
    }
   ],
   "source": [
    "\n",
    "areaYperimetroCuadrado(5)\n",
    "\n",
    "\n"
   ]
  },
  {
   "cell_type": "code",
   "execution_count": 9,
   "metadata": {},
   "outputs": [
    {
     "data": {
      "text/plain": [
       "'el area es 5 y el perimetro es 10'"
      ]
     },
     "execution_count": 9,
     "metadata": {},
     "output_type": "execute_result"
    }
   ],
   "source": [
    "areaYperimetroRectangulo(2,3)"
   ]
  },
  {
   "cell_type": "code",
   "execution_count": 7,
   "metadata": {},
   "outputs": [
    {
     "data": {
      "text/plain": [
       "'El área es 3.90 y el perímetro es 9.00'"
      ]
     },
     "execution_count": 7,
     "metadata": {},
     "output_type": "execute_result"
    }
   ],
   "source": [
    "areaYperimetroTriangulo(\"equilatero\")"
   ]
  }
 ],
 "metadata": {
  "kernelspec": {
   "display_name": "Python 3 (ipykernel)",
   "language": "python",
   "name": "python3"
  },
  "language_info": {
   "codemirror_mode": {
    "name": "ipython",
    "version": 3
   },
   "file_extension": ".py",
   "mimetype": "text/x-python",
   "name": "python",
   "nbconvert_exporter": "python",
   "pygments_lexer": "ipython3",
   "version": "3.11.9"
  }
 },
 "nbformat": 4,
 "nbformat_minor": 2
}
