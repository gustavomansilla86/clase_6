{
 "cells": [
  {
   "cell_type": "code",
   "execution_count": 8,
   "metadata": {},
   "outputs": [
    {
     "data": {
      "text/plain": [
       "7"
      ]
     },
     "execution_count": 8,
     "metadata": {},
     "output_type": "execute_result"
    }
   ],
   "source": [
    "def suma(a,b):\n",
    "    return a+b\n",
    "\n",
    "suma(3,4)"
   ]
  },
  {
   "cell_type": "code",
   "execution_count": 9,
   "metadata": {},
   "outputs": [
    {
     "name": "stdout",
     "output_type": "stream",
     "text": [
      "args:(345, 'juan'),kwargs{'modo': 'vuelo', 'flag': 'activado'}\n"
     ]
    }
   ],
   "source": [
    "def mi_Funcion(*args,**kwargs):\n",
    "    print(f\"args:{args},kwargs{kwargs}\")\n",
    "\n",
    "mi_Funcion(345,\"juan\",modo=\"vuelo\",flag=\"activado\")"
   ]
  },
  {
   "cell_type": "code",
   "execution_count": 10,
   "metadata": {},
   "outputs": [
    {
     "data": {
      "text/plain": [
       "15"
      ]
     },
     "execution_count": 10,
     "metadata": {},
     "output_type": "execute_result"
    }
   ],
   "source": [
    "def sumaRecursiva(elemento,contador=0):\n",
    "    if elemento ==0:\n",
    "        return contador\n",
    "    else:\n",
    "        contador += elemento\n",
    "        return sumaRecursiva(elemento-1,contador)\n",
    "    \n",
    "sumaRecursiva(5)"
   ]
  },
  {
   "cell_type": "code",
   "execution_count": 11,
   "metadata": {},
   "outputs": [
    {
     "name": "stdout",
     "output_type": "stream",
     "text": [
      "95\n"
     ]
    }
   ],
   "source": [
    "mi_lista=[10,10,50,20,5]\n",
    "suma=0\n",
    "for i in mi_lista:\n",
    "    suma = suma+i\n",
    "\n",
    "print(suma)"
   ]
  },
  {
   "cell_type": "code",
   "execution_count": 12,
   "metadata": {},
   "outputs": [
    {
     "data": {
      "text/plain": [
       "str"
      ]
     },
     "execution_count": 12,
     "metadata": {},
     "output_type": "execute_result"
    }
   ],
   "source": [
    "saludo=\"hola\"\n",
    "type(saludo)"
   ]
  },
  {
   "cell_type": "code",
   "execution_count": 13,
   "metadata": {},
   "outputs": [
    {
     "name": "stdout",
     "output_type": "stream",
     "text": [
      "126.24\n"
     ]
    }
   ],
   "source": [
    "numero=126.2362478\n",
    "numero_redondeado=round(numero,2)\n",
    "print(numero_redondeado)"
   ]
  },
  {
   "cell_type": "code",
   "execution_count": 14,
   "metadata": {},
   "outputs": [
    {
     "name": "stdout",
     "output_type": "stream",
     "text": [
      "16\n"
     ]
    }
   ],
   "source": [
    "mi_lista =[1,3,4,16,7]\n",
    "maximo= max(mi_lista)\n",
    "print(maximo)"
   ]
  },
  {
   "cell_type": "code",
   "execution_count": 15,
   "metadata": {},
   "outputs": [
    {
     "name": "stdout",
     "output_type": "stream",
     "text": [
      "bienvenido al sistema gustavo mansilla con 37 años!\n"
     ]
    }
   ],
   "source": [
    "def saludo1(nombre,apellido,edad):\n",
    "    print(f\"bienvenido al sistema {nombre} {apellido} con {edad} años!\")\n",
    "\n",
    "saludo1(\"gustavo\",\"mansilla\",37)"
   ]
  },
  {
   "cell_type": "code",
   "execution_count": 16,
   "metadata": {},
   "outputs": [],
   "source": [
    "def divisor(b):\n",
    "    resultado=20/b\n",
    "    return resultado\n",
    "\n"
   ]
  },
  {
   "cell_type": "code",
   "execution_count": 37,
   "metadata": {},
   "outputs": [
    {
     "name": "stdout",
     "output_type": "stream",
     "text": [
      "2\n"
     ]
    }
   ],
   "source": [
    "n2=float(input(\"ingrese numero para divisor: \"))\n",
    "resultado=divisor(n2)\n",
    "print(int(resultado))"
   ]
  },
  {
   "cell_type": "code",
   "execution_count": 39,
   "metadata": {},
   "outputs": [],
   "source": [
    "es_par =lambda x: x%2==0\n",
    "num1=float(input(\"ingrese numero: \"))\n",
    "par=es_par(num1)\n",
    "if par==True:\n",
    "    print(\"El número es par\")"
   ]
  },
  {
   "cell_type": "code",
   "execution_count": null,
   "metadata": {},
   "outputs": [],
   "source": [
    "def usuario(nombre):\n",
    "    print(f\"bienvenido al sistema {nombre}\")"
   ]
  }
 ],
 "metadata": {
  "kernelspec": {
   "display_name": "Python 3",
   "language": "python",
   "name": "python3"
  },
  "language_info": {
   "codemirror_mode": {
    "name": "ipython",
    "version": 3
   },
   "file_extension": ".py",
   "mimetype": "text/x-python",
   "name": "python",
   "nbconvert_exporter": "python",
   "pygments_lexer": "ipython3",
   "version": "3.11.9"
  }
 },
 "nbformat": 4,
 "nbformat_minor": 2
}
